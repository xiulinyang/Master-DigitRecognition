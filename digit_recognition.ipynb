{
  "nbformat": 4,
  "nbformat_minor": 0,
  "metadata": {
    "colab": {
      "name": "digit_recognition.ipynb",
      "provenance": [],
      "collapsed_sections": []
    },
    "kernelspec": {
      "name": "python3",
      "display_name": "Python 3"
    },
    "language_info": {
      "name": "python"
    }
  },
  "cells": [
    {
      "cell_type": "markdown",
      "source": [
        "*   Adapt matlab base model to python\n",
        "*   Check the score (the final accuracy should be 95% or better)\n",
        "*   Improve the model\n",
        "*   Write the report\n",
        "\n",
        "\n",
        "success!\n",
        "\n"
      ],
      "metadata": {
        "id": "EUm0CQakZTA6"
      }
    },
    {
      "cell_type": "code",
      "source": [
        "import numpy as np\n",
        "import matplotlib.pyplot as plt"
      ],
      "metadata": {
        "id": "M50RHk00LrSy"
      },
      "execution_count": null,
      "outputs": []
    },
    {
      "cell_type": "code",
      "execution_count": null,
      "metadata": {
        "id": "rFrTpJlqUL47",
        "colab": {
          "base_uri": "https://localhost:8080/"
        },
        "outputId": "61a648f7-15b6-4863-f90f-8d6e125d6d6a"
      },
      "outputs": [
        {
          "output_type": "stream",
          "name": "stdout",
          "text": [
            "Mounted at /content/gdrive\n"
          ]
        }
      ],
      "source": [
        "from google.colab import drive\n",
        "drive.mount('/content/gdrive')"
      ]
    },
    {
      "cell_type": "markdown",
      "source": [
        "## read data\n",
        "\n"
      ],
      "metadata": {
        "id": "KXb0C14vWI1Z"
      }
    },
    {
      "cell_type": "code",
      "source": [
        "def read_data(directory):\n",
        "  doc =[]\n",
        "  with open (directory, encoding = 'utf-8') as f:\n",
        "    for lines in f:\n",
        "      lines = lines.split()\n",
        "      doc.append(lines)\n",
        "  return doc"
      ],
      "metadata": {
        "id": "ZLxrSjykW_cu"
      },
      "execution_count": null,
      "outputs": []
    },
    {
      "cell_type": "code",
      "source": [
        "data = read_data ('/content/gdrive/MyDrive/final_project/mfeat-pix.txt')"
      ],
      "metadata": {
        "id": "NADFug-nXe2j"
      },
      "execution_count": null,
      "outputs": []
    },
    {
      "cell_type": "code",
      "source": [
        "# convert the strings into integers\n",
        "for num in data:\n",
        "  for i in range(len(num)):\n",
        "    num[i] = int(num[i])"
      ],
      "metadata": {
        "id": "LYQy--WxjnCU"
      },
      "execution_count": null,
      "outputs": []
    },
    {
      "cell_type": "code",
      "source": [
        "# create y set\n",
        "y_set = [[y]*100 for y in range (0,10)]\n",
        "y_set = [x for num in y_set for x in num]"
      ],
      "metadata": {
        "id": "e-cJA0QtMmoW"
      },
      "execution_count": null,
      "outputs": []
    },
    {
      "cell_type": "code",
      "source": [
        "def get_train(data):\n",
        "  final_data =[]\n",
        "  for i in range(0,2000,200):\n",
        "    final_data.append(data[i:i+100])\n",
        "  return final_data\n",
        "\n",
        "def get_test(data):\n",
        "  final_data = []\n",
        "  for i in range(100, 2000, 200):\n",
        "    final_data.append(data[i:i+100])\n",
        "  return final_data"
      ],
      "metadata": {
        "id": "bQsezndBjoh5"
      },
      "execution_count": null,
      "outputs": []
    },
    {
      "cell_type": "code",
      "source": [
        "x_train = [num for x in get_train(data) for num in x]\n",
        "X_train =[]\n",
        "shape =(16,15)\n",
        "for x in x_train:\n",
        "    a = np.reshape(np.array(x), shape)\n",
        "    X_train.append(a)\n",
        "  \n",
        "X_train_cnn = np.array(X_train)\n",
        "X_train = X_train_cnn.reshape(len(X_train_cnn), 240)\n",
        "\n",
        "\n",
        "y_train = np.array(y_set)\n",
        "\n",
        "x_test = [num for x in get_test(data) for num in x]\n",
        "X_test =[]\n",
        "for x in x_test:\n",
        "    a = np.reshape(np.array(x), shape)\n",
        "    X_test.append(a)\n",
        "  \n",
        "X_test_cnn = np.array(X_test)\n",
        "X_test = X_test_cnn.reshape(len(X_test_cnn), -1)\n",
        "y_test = np.array(y_set)\n"
      ],
      "metadata": {
        "id": "EHw4rzSsSdqH"
      },
      "execution_count": null,
      "outputs": []
    },
    {
      "cell_type": "code",
      "source": [
        "X_test.shape"
      ],
      "metadata": {
        "colab": {
          "base_uri": "https://localhost:8080/"
        },
        "id": "O72puRPogtvf",
        "outputId": "c4dad8b4-c10d-40d6-fab6-6bbfdf4a0c72"
      },
      "execution_count": null,
      "outputs": [
        {
          "output_type": "execute_result",
          "data": {
            "text/plain": [
              "(1000, 240)"
            ]
          },
          "metadata": {},
          "execution_count": 9
        }
      ]
    },
    {
      "cell_type": "code",
      "source": [
        "import random\n",
        "#Generate 5 random numbers between 10 and 30\n",
        "\n",
        "num_row = 2\n",
        "num_col = 5# plot images\n",
        "fig, axes = plt.subplots(num_row, num_col, figsize=(1.5*num_col,2*num_row))\n",
        "\n",
        "    a= i*random.sample((1,100),1)\n",
        "    ax.imshow(X_train_cnn[i], cmap='gray')\n",
        "    ax.set_title('Label: {}'.format(y_train[i]))\n",
        "plt.tight_layout()\n",
        "plt.show()\n",
        "\n",
        "\n",
        "\n",
        "# def produce_image(num1, num2, num3, num4, num5, num6, num7, num8, num9, num10):\n",
        "  # plt.imshow(X_train_cnn[i], 'binary')\n",
        "  # plt.title(y_train[i])\n",
        "  # plt.show"
      ],
      "metadata": {
        "id": "SeeYRbyFUAN7",
        "colab": {
          "base_uri": "https://localhost:8080/",
          "height": 488
        },
        "outputId": "8f280130-2e4e-416e-e942-e45a41018c57"
      },
      "execution_count": null,
      "outputs": [
        {
          "output_type": "error",
          "ename": "AttributeError",
          "evalue": "ignored",
          "traceback": [
            "\u001b[0;31m---------------------------------------------------------------------------\u001b[0m",
            "\u001b[0;31mAttributeError\u001b[0m                            Traceback (most recent call last)",
            "\u001b[0;32m<ipython-input-24-6539da75fb18>\u001b[0m in \u001b[0;36m<module>\u001b[0;34m()\u001b[0m\n\u001b[1;32m      8\u001b[0m     \u001b[0max\u001b[0m \u001b[0;34m=\u001b[0m \u001b[0maxes\u001b[0m\u001b[0;34m[\u001b[0m\u001b[0mi\u001b[0m\u001b[0;34m]\u001b[0m\u001b[0;34m\u001b[0m\u001b[0;34m\u001b[0m\u001b[0m\n\u001b[1;32m      9\u001b[0m     \u001b[0ma\u001b[0m\u001b[0;34m=\u001b[0m \u001b[0mi\u001b[0m\u001b[0;34m*\u001b[0m\u001b[0mrandom\u001b[0m\u001b[0;34m.\u001b[0m\u001b[0msample\u001b[0m\u001b[0;34m(\u001b[0m\u001b[0;34m(\u001b[0m\u001b[0;36m1\u001b[0m\u001b[0;34m,\u001b[0m\u001b[0;36m100\u001b[0m\u001b[0;34m)\u001b[0m\u001b[0;34m,\u001b[0m\u001b[0;36m1\u001b[0m\u001b[0;34m)\u001b[0m\u001b[0;34m\u001b[0m\u001b[0;34m\u001b[0m\u001b[0m\n\u001b[0;32m---> 10\u001b[0;31m     \u001b[0max\u001b[0m\u001b[0;34m.\u001b[0m\u001b[0mimshow\u001b[0m\u001b[0;34m(\u001b[0m\u001b[0mX_train_cnn\u001b[0m\u001b[0;34m[\u001b[0m\u001b[0mi\u001b[0m\u001b[0;34m]\u001b[0m\u001b[0;34m,\u001b[0m \u001b[0mcmap\u001b[0m\u001b[0;34m=\u001b[0m\u001b[0;34m'gray'\u001b[0m\u001b[0;34m)\u001b[0m\u001b[0;34m\u001b[0m\u001b[0;34m\u001b[0m\u001b[0m\n\u001b[0m\u001b[1;32m     11\u001b[0m     \u001b[0max\u001b[0m\u001b[0;34m.\u001b[0m\u001b[0mset_title\u001b[0m\u001b[0;34m(\u001b[0m\u001b[0;34m'Label: {}'\u001b[0m\u001b[0;34m.\u001b[0m\u001b[0mformat\u001b[0m\u001b[0;34m(\u001b[0m\u001b[0my_train\u001b[0m\u001b[0;34m[\u001b[0m\u001b[0mi\u001b[0m\u001b[0;34m]\u001b[0m\u001b[0;34m)\u001b[0m\u001b[0;34m)\u001b[0m\u001b[0;34m\u001b[0m\u001b[0;34m\u001b[0m\u001b[0m\n\u001b[1;32m     12\u001b[0m \u001b[0mplt\u001b[0m\u001b[0;34m.\u001b[0m\u001b[0mtight_layout\u001b[0m\u001b[0;34m(\u001b[0m\u001b[0;34m)\u001b[0m\u001b[0;34m\u001b[0m\u001b[0;34m\u001b[0m\u001b[0m\n",
            "\u001b[0;31mAttributeError\u001b[0m: 'numpy.ndarray' object has no attribute 'imshow'"
          ]
        },
        {
          "output_type": "display_data",
          "data": {
            "image/png": "[encoded data removed]",
            "text/plain": [
              "<Figure size 540x288 with 10 Axes>"
            ]
          },
          "metadata": {
            "needs_background": "light"
          }
        }
      ]
    },
    {
      "cell_type": "code",
      "source": [
        "produce_image(599)\n",
        "produce_image(100)"
      ],
      "metadata": {
        "colab": {
          "base_uri": "https://localhost:8080/",
          "height": 281
        },
        "id": "2UwA62Gutu-E",
        "outputId": "a7cfb198-e39c-43e2-ac5f-c358dfa60004"
      },
      "execution_count": null,
      "outputs": [
        {
          "output_type": "display_data",
          "data": {
            "image/png": "[encoded data removed]",
            "text/plain": [
              "<Figure size 432x288 with 1 Axes>"
            ]
          },
          "metadata": {
            "needs_background": "light"
          }
        }
      ]
    },
    {
      "cell_type": "markdown",
      "source": [
        "#SVM "
      ],
      "metadata": {
        "id": "RaRCK8avSPsg"
      }
    },
    {
      "cell_type": "code",
      "source": [
        "from sklearn import svm\n",
        "from sklearn.metrics import accuracy_score\n",
        "from sklearn.metrics import classification_report"
      ],
      "metadata": {
        "id": "ztJdrr0mdoGh"
      },
      "execution_count": null,
      "outputs": []
    },
    {
      "cell_type": "code",
      "source": [
        "# X_train = X_train/6\n",
        "# X_test = X_test/6"
      ],
      "metadata": {
        "id": "ZGrSjbKr3E2O"
      },
      "execution_count": null,
      "outputs": []
    },
    {
      "cell_type": "code",
      "source": [
        "from sklearn.model_selection import GridSearchCV\n",
        "parameters_svm = {'kernel':['linear', 'rbf', 'sigmoid'], 'C': [0.5, 1.0, 2.0, 5.0, 10.0], 'gamma':[0.0001, 0.001, 0.01, 0.1]}\n",
        "svc = svm.SVC()\n",
        "clf = GridSearchCV(svc, parameters_svm)\n",
        "clf.get_params().keys()\n",
        "clf.fit(X_train, y_train)\n"
      ],
      "metadata": {
        "colab": {
          "base_uri": "https://localhost:8080/"
        },
        "id": "c-iizrgGYQK0",
        "outputId": "becb4392-b0b9-4ac2-90f7-d69a78ef477b"
      },
      "execution_count": null,
      "outputs": [
        {
          "output_type": "execute_result",
          "data": {
            "text/plain": [
              "GridSearchCV(estimator=SVC(),\n",
              "             param_grid={'C': [0.5, 1.0, 2.0, 5.0, 10.0],\n",
              "                         'gamma': [0.0001, 0.001, 0.01, 0.1],\n",
              "                         'kernel': ['linear', 'rbf', 'sigmoid']})"
            ]
          },
          "metadata": {},
          "execution_count": 273
        }
      ]
    },
    {
      "cell_type": "code",
      "source": [
        "clf.best_params_\n",
        "clf.cv_results_\n",
        "clf.best_score_"
      ],
      "metadata": {
        "colab": {
          "base_uri": "https://localhost:8080/"
        },
        "id": "31L6Wk0wZ8X3",
        "outputId": "7440af7e-f620-41af-f3b5-a612e5dc97a7"
      },
      "execution_count": null,
      "outputs": [
        {
          "output_type": "execute_result",
          "data": {
            "text/plain": [
              "0.977"
            ]
          },
          "metadata": {},
          "execution_count": 277
        }
      ]
    },
    {
      "cell_type": "code",
      "source": [
        "svm_classifier = svm.SVC(gamma=0.001)\n",
        "svm_classifier.fit(X_train, y_train)\n",
        "y_predict = svm_classifier.predict(X_test)\n",
        "y_names = range(0,10)\n",
        "print(accuracy_score(y_test, y_predict))\n",
        "print(classification_report(y_set, y_predict))"
      ],
      "metadata": {
        "colab": {
          "base_uri": "https://localhost:8080/"
        },
        "id": "y6ai23ZagIsf",
        "outputId": "ddcb60ee-7687-412f-ec44-2559418cd2a9"
      },
      "execution_count": null,
      "outputs": [
        {
          "output_type": "stream",
          "name": "stdout",
          "text": [
            "0.975\n",
            "              precision    recall  f1-score   support\n",
            "\n",
            "           0       0.99      0.96      0.97       100\n",
            "           1       0.93      1.00      0.97       100\n",
            "           2       0.99      1.00      1.00       100\n",
            "           3       0.97      0.96      0.96       100\n",
            "           4       0.98      0.99      0.99       100\n",
            "           5       0.93      0.95      0.94       100\n",
            "           6       1.00      0.95      0.97       100\n",
            "           7       1.00      0.99      0.99       100\n",
            "           8       0.98      0.97      0.97       100\n",
            "           9       0.98      0.98      0.98       100\n",
            "\n",
            "    accuracy                           0.97      1000\n",
            "   macro avg       0.98      0.97      0.98      1000\n",
            "weighted avg       0.98      0.97      0.98      1000\n",
            "\n"
          ]
        }
      ]
    },
    {
      "cell_type": "markdown",
      "source": [
        "# Decision Tree"
      ],
      "metadata": {
        "id": "SAAC5l0ASX6q"
      }
    },
    {
      "cell_type": "code",
      "source": [
        "from sklearn.tree import DecisionTreeClassifier"
      ],
      "metadata": {
        "id": "bMLCVv3MSW5d"
      },
      "execution_count": null,
      "outputs": []
    },
    {
      "cell_type": "code",
      "source": [
        "parameters_tree = {'criterion':['gini', 'entropy'], 'min_samples_split':[2,4,6]}\n",
        "clf_tree =GridSearchCV(DecisionTreeClassifier(), parameters_tree)\n",
        "clf_tree.fit(X_train, y_train)\n",
        "print(clf_tree.best_params_ ) "
      ],
      "metadata": {
        "colab": {
          "base_uri": "https://localhost:8080/"
        },
        "id": "DRfC4FEqayKM",
        "outputId": "c94f6e8c-6be3-44c0-c38b-447f74e0eebb"
      },
      "execution_count": null,
      "outputs": [
        {
          "output_type": "stream",
          "name": "stdout",
          "text": [
            "{'criterion': 'entropy', 'min_samples_split': 2}\n"
          ]
        }
      ]
    },
    {
      "cell_type": "code",
      "source": [
        "clf_decisiontree = DecisionTreeClassifier()\n",
        "clf_decisiontree.fit(X_train, y_train)\n",
        "dt_pred = clf_decisiontree.predict(X_test)\n",
        "print(classification_report(y_test, dt_pred))"
      ],
      "metadata": {
        "colab": {
          "base_uri": "https://localhost:8080/"
        },
        "id": "betsdLHWS1dw",
        "outputId": "faa2ef9e-245d-4af3-94b5-ff6368b08715"
      },
      "execution_count": null,
      "outputs": [
        {
          "output_type": "stream",
          "name": "stdout",
          "text": [
            "              precision    recall  f1-score   support\n",
            "\n",
            "           0       0.92      0.95      0.94       100\n",
            "           1       0.82      0.85      0.83       100\n",
            "           2       0.92      0.87      0.89       100\n",
            "           3       0.80      0.74      0.77       100\n",
            "           4       0.94      0.91      0.92       100\n",
            "           5       0.76      0.84      0.80       100\n",
            "           6       0.85      0.92      0.88       100\n",
            "           7       0.84      0.90      0.87       100\n",
            "           8       0.92      0.76      0.83       100\n",
            "           9       0.83      0.84      0.84       100\n",
            "\n",
            "    accuracy                           0.86      1000\n",
            "   macro avg       0.86      0.86      0.86      1000\n",
            "weighted avg       0.86      0.86      0.86      1000\n",
            "\n"
          ]
        }
      ]
    },
    {
      "cell_type": "markdown",
      "source": [
        "# Random Forest"
      ],
      "metadata": {
        "id": "vsNceqgITO_x"
      }
    },
    {
      "cell_type": "code",
      "source": [
        "from sklearn.ensemble import RandomForestClassifier"
      ],
      "metadata": {
        "id": "2D73QtXETRQL"
      },
      "execution_count": null,
      "outputs": []
    },
    {
      "cell_type": "code",
      "source": [
        "clf_forest = RandomForestClassifier()\n",
        "clf_forest.fit(X_train, y_train)\n",
        "forest_pred = clf_forest.predict(X_test)\n",
        "print(classification_report(y_test, forest_pred))\n",
        "print(accuracy_score(y_test, forest_pred))"
      ],
      "metadata": {
        "colab": {
          "base_uri": "https://localhost:8080/"
        },
        "id": "HLeA_ZNBTaIE",
        "outputId": "18078fc8-25bf-44bc-803f-d6ea4ebb051f"
      },
      "execution_count": null,
      "outputs": [
        {
          "output_type": "stream",
          "name": "stdout",
          "text": [
            "              precision    recall  f1-score   support\n",
            "\n",
            "           0       0.99      0.97      0.98       100\n",
            "           1       0.95      0.99      0.97       100\n",
            "           2       0.99      1.00      1.00       100\n",
            "           3       0.94      0.97      0.96       100\n",
            "           4       0.98      0.97      0.97       100\n",
            "           5       0.96      0.94      0.95       100\n",
            "           6       0.99      0.96      0.97       100\n",
            "           7       0.99      0.98      0.98       100\n",
            "           8       0.96      0.97      0.97       100\n",
            "           9       0.96      0.96      0.96       100\n",
            "\n",
            "    accuracy                           0.97      1000\n",
            "   macro avg       0.97      0.97      0.97      1000\n",
            "weighted avg       0.97      0.97      0.97      1000\n",
            "\n",
            "0.971\n"
          ]
        }
      ]
    },
    {
      "cell_type": "markdown",
      "source": [
        "# Naive Bayes"
      ],
      "metadata": {
        "id": "fGV6kw1sSTJ-"
      }
    },
    {
      "cell_type": "code",
      "source": [
        "from sklearn.naive_bayes import GaussianNB\n",
        "GNB_classifier = GaussianNB()\n",
        "GNB_classifier.fit(X_train, y_train)\n",
        "y_pred = GNB_classifier.predict(X_test)\n",
        "print(accuracy_score(y_test, y_pred))"
      ],
      "metadata": {
        "colab": {
          "base_uri": "https://localhost:8080/"
        },
        "id": "tnxa_psHjZhY",
        "outputId": "bedf671e-3a43-4162-d777-720a1b6bab63"
      },
      "execution_count": null,
      "outputs": [
        {
          "output_type": "stream",
          "name": "stdout",
          "text": [
            "0.894\n"
          ]
        }
      ]
    },
    {
      "cell_type": "markdown",
      "source": [
        "# CNN Tenserflow"
      ],
      "metadata": {
        "id": "5ct39mrFzlsR"
      }
    },
    {
      "cell_type": "code",
      "source": [
        "pip install tensorflow"
      ],
      "metadata": {
        "colab": {
          "base_uri": "https://localhost:8080/"
        },
        "id": "6o81zbT7jzI6",
        "outputId": "60e40c55-2418-4107-b67c-37a81e2ea673"
      },
      "execution_count": null,
      "outputs": [
        {
          "output_type": "stream",
          "name": "stdout",
          "text": [
            "Requirement already satisfied: tensorflow in /usr/local/lib/python3.7/dist-packages (2.7.0)\n",
            "Requirement already satisfied: tensorflow-estimator<2.8,~=2.7.0rc0 in /usr/local/lib/python3.7/dist-packages (from tensorflow) (2.7.0)\n",
            "Requirement already satisfied: tensorboard~=2.6 in /usr/local/lib/python3.7/dist-packages (from tensorflow) (2.7.0)\n",
            "Requirement already satisfied: keras-preprocessing>=1.1.1 in /usr/local/lib/python3.7/dist-packages (from tensorflow) (1.1.2)\n",
            "Requirement already satisfied: keras<2.8,>=2.7.0rc0 in /usr/local/lib/python3.7/dist-packages (from tensorflow) (2.7.0)\n",
            "Requirement already satisfied: google-pasta>=0.1.1 in /usr/local/lib/python3.7/dist-packages (from tensorflow) (0.2.0)\n",
            "Requirement already satisfied: astunparse>=1.6.0 in /usr/local/lib/python3.7/dist-packages (from tensorflow) (1.6.3)\n",
            "Requirement already satisfied: wheel<1.0,>=0.32.0 in /usr/local/lib/python3.7/dist-packages (from tensorflow) (0.37.1)\n",
            "Requirement already satisfied: gast<0.5.0,>=0.2.1 in /usr/local/lib/python3.7/dist-packages (from tensorflow) (0.4.0)\n",
            "Requirement already satisfied: six>=1.12.0 in /usr/local/lib/python3.7/dist-packages (from tensorflow) (1.15.0)\n",
            "Requirement already satisfied: wrapt>=1.11.0 in /usr/local/lib/python3.7/dist-packages (from tensorflow) (1.13.3)\n",
            "Requirement already satisfied: libclang>=9.0.1 in /usr/local/lib/python3.7/dist-packages (from tensorflow) (12.0.0)\n",
            "Requirement already satisfied: opt-einsum>=2.3.2 in /usr/local/lib/python3.7/dist-packages (from tensorflow) (3.3.0)\n",
            "Requirement already satisfied: termcolor>=1.1.0 in /usr/local/lib/python3.7/dist-packages (from tensorflow) (1.1.0)\n",
            "Requirement already satisfied: h5py>=2.9.0 in /usr/local/lib/python3.7/dist-packages (from tensorflow) (3.1.0)\n",
            "Requirement already satisfied: typing-extensions>=3.6.6 in /usr/local/lib/python3.7/dist-packages (from tensorflow) (3.10.0.2)\n",
            "Requirement already satisfied: flatbuffers<3.0,>=1.12 in /usr/local/lib/python3.7/dist-packages (from tensorflow) (2.0)\n",
            "Requirement already satisfied: grpcio<2.0,>=1.24.3 in /usr/local/lib/python3.7/dist-packages (from tensorflow) (1.43.0)\n",
            "Requirement already satisfied: tensorflow-io-gcs-filesystem>=0.21.0 in /usr/local/lib/python3.7/dist-packages (from tensorflow) (0.23.1)\n",
            "Requirement already satisfied: absl-py>=0.4.0 in /usr/local/lib/python3.7/dist-packages (from tensorflow) (0.12.0)\n",
            "Requirement already satisfied: protobuf>=3.9.2 in /usr/local/lib/python3.7/dist-packages (from tensorflow) (3.17.3)\n",
            "Requirement already satisfied: numpy>=1.14.5 in /usr/local/lib/python3.7/dist-packages (from tensorflow) (1.19.5)\n",
            "Requirement already satisfied: cached-property in /usr/local/lib/python3.7/dist-packages (from h5py>=2.9.0->tensorflow) (1.5.2)\n",
            "Requirement already satisfied: requests<3,>=2.21.0 in /usr/local/lib/python3.7/dist-packages (from tensorboard~=2.6->tensorflow) (2.23.0)\n",
            "Requirement already satisfied: werkzeug>=0.11.15 in /usr/local/lib/python3.7/dist-packages (from tensorboard~=2.6->tensorflow) (1.0.1)\n",
            "Requirement already satisfied: google-auth<3,>=1.6.3 in /usr/local/lib/python3.7/dist-packages (from tensorboard~=2.6->tensorflow) (1.35.0)\n",
            "Requirement already satisfied: markdown>=2.6.8 in /usr/local/lib/python3.7/dist-packages (from tensorboard~=2.6->tensorflow) (3.3.6)\n",
            "Requirement already satisfied: setuptools>=41.0.0 in /usr/local/lib/python3.7/dist-packages (from tensorboard~=2.6->tensorflow) (57.4.0)\n",
            "Requirement already satisfied: tensorboard-plugin-wit>=1.6.0 in /usr/local/lib/python3.7/dist-packages (from tensorboard~=2.6->tensorflow) (1.8.1)\n",
            "Requirement already satisfied: tensorboard-data-server<0.7.0,>=0.6.0 in /usr/local/lib/python3.7/dist-packages (from tensorboard~=2.6->tensorflow) (0.6.1)\n",
            "Requirement already satisfied: google-auth-oauthlib<0.5,>=0.4.1 in /usr/local/lib/python3.7/dist-packages (from tensorboard~=2.6->tensorflow) (0.4.6)\n",
            "Requirement already satisfied: cachetools<5.0,>=2.0.0 in /usr/local/lib/python3.7/dist-packages (from google-auth<3,>=1.6.3->tensorboard~=2.6->tensorflow) (4.2.4)\n",
            "Requirement already satisfied: rsa<5,>=3.1.4 in /usr/local/lib/python3.7/dist-packages (from google-auth<3,>=1.6.3->tensorboard~=2.6->tensorflow) (4.8)\n",
            "Requirement already satisfied: pyasn1-modules>=0.2.1 in /usr/local/lib/python3.7/dist-packages (from google-auth<3,>=1.6.3->tensorboard~=2.6->tensorflow) (0.2.8)\n",
            "Requirement already satisfied: requests-oauthlib>=0.7.0 in /usr/local/lib/python3.7/dist-packages (from google-auth-oauthlib<0.5,>=0.4.1->tensorboard~=2.6->tensorflow) (1.3.0)\n",
            "Requirement already satisfied: importlib-metadata>=4.4 in /usr/local/lib/python3.7/dist-packages (from markdown>=2.6.8->tensorboard~=2.6->tensorflow) (4.10.0)\n",
            "Requirement already satisfied: zipp>=0.5 in /usr/local/lib/python3.7/dist-packages (from importlib-metadata>=4.4->markdown>=2.6.8->tensorboard~=2.6->tensorflow) (3.7.0)\n",
            "Requirement already satisfied: pyasn1<0.5.0,>=0.4.6 in /usr/local/lib/python3.7/dist-packages (from pyasn1-modules>=0.2.1->google-auth<3,>=1.6.3->tensorboard~=2.6->tensorflow) (0.4.8)\n",
            "Requirement already satisfied: certifi>=2017.4.17 in /usr/local/lib/python3.7/dist-packages (from requests<3,>=2.21.0->tensorboard~=2.6->tensorflow) (2021.10.8)\n",
            "Requirement already satisfied: idna<3,>=2.5 in /usr/local/lib/python3.7/dist-packages (from requests<3,>=2.21.0->tensorboard~=2.6->tensorflow) (2.10)\n",
            "Requirement already satisfied: chardet<4,>=3.0.2 in /usr/local/lib/python3.7/dist-packages (from requests<3,>=2.21.0->tensorboard~=2.6->tensorflow) (3.0.4)\n",
            "Requirement already satisfied: urllib3!=1.25.0,!=1.25.1,<1.26,>=1.21.1 in /usr/local/lib/python3.7/dist-packages (from requests<3,>=2.21.0->tensorboard~=2.6->tensorflow) (1.24.3)\n",
            "Requirement already satisfied: oauthlib>=3.0.0 in /usr/local/lib/python3.7/dist-packages (from requests-oauthlib>=0.7.0->google-auth-oauthlib<0.5,>=0.4.1->tensorboard~=2.6->tensorflow) (3.1.1)\n"
          ]
        }
      ]
    },
    {
      "cell_type": "code",
      "source": [
        "import tensorflow as tf"
      ],
      "metadata": {
        "id": "Ghrb1ckj0AP0"
      },
      "execution_count": null,
      "outputs": []
    },
    {
      "cell_type": "code",
      "source": [
        "mnist = tf.keras.datasets.mnist"
      ],
      "metadata": {
        "id": "XIkCZHQV0VYh"
      },
      "execution_count": null,
      "outputs": []
    },
    {
      "cell_type": "code",
      "source": [
        "(x_train_mnist, y_train_mnist), (x_test_mnist, y_test_mnist) = mnist.load_data()"
      ],
      "metadata": {
        "colab": {
          "base_uri": "https://localhost:8080/"
        },
        "id": "UMJ16nbX0o6w",
        "outputId": "f99873b6-6642-4af1-a442-a3935806a8d2"
      },
      "execution_count": null,
      "outputs": [
        {
          "output_type": "stream",
          "name": "stdout",
          "text": [
            "Downloading data from https://storage.googleapis.com/tensorflow/tf-keras-datasets/mnist.npz\n",
            "11493376/11490434 [==============================] - 0s 0us/step\n",
            "11501568/11490434 [==============================] - 0s 0us/step\n"
          ]
        }
      ]
    },
    {
      "cell_type": "code",
      "source": [
        "x_test_mnist.shape\n",
        "print(type(x_test_mnist))"
      ],
      "metadata": {
        "colab": {
          "base_uri": "https://localhost:8080/"
        },
        "id": "W0f6Kz4w0w5R",
        "outputId": "919f3511-2963-439f-ea38-b2a26e3ab330"
      },
      "execution_count": null,
      "outputs": [
        {
          "output_type": "stream",
          "name": "stdout",
          "text": [
            "<class 'numpy.ndarray'>\n"
          ]
        }
      ]
    },
    {
      "cell_type": "code",
      "source": [
        "plt.imshow(x_train_mnist[0], 'binary')"
      ],
      "metadata": {
        "colab": {
          "base_uri": "https://localhost:8080/",
          "height": 282
        },
        "id": "6pZqvmf61X0_",
        "outputId": "c0fe91ff-3ef9-493d-c5dc-5b9a5c962562"
      },
      "execution_count": null,
      "outputs": [
        {
          "output_type": "execute_result",
          "data": {
            "text/plain": [
              "<matplotlib.image.AxesImage at 0x7ff746c4ebd0>"
            ]
          },
          "metadata": {},
          "execution_count": 163
        },
        {
          "output_type": "display_data",
          "data": {
            "image/png": "[encoded data removed]",
            "text/plain": [
              "<Figure size 432x288 with 1 Axes>"
            ]
          },
          "metadata": {
            "needs_background": "light"
          }
        }
      ]
    },
    {
      "cell_type": "code",
      "source": [
        "x_train_mnist = tf.keras.utils.normalize(x_train_mnist, axis=1)\n",
        "x_test_mnist = tf.keras.utils.normalize(x_test_mnist, axis=1)\n",
        "\n",
        "plt.imshow(x_train_mnist[0], 'binary')\n"
      ],
      "metadata": {
        "colab": {
          "base_uri": "https://localhost:8080/",
          "height": 282
        },
        "id": "CM_lDl5V40e_",
        "outputId": "dec25d5e-4ff9-4447-a2d2-d788c1900e47"
      },
      "execution_count": null,
      "outputs": [
        {
          "output_type": "execute_result",
          "data": {
            "text/plain": [
              "<matplotlib.image.AxesImage at 0x7ff7469d9d10>"
            ]
          },
          "metadata": {},
          "execution_count": 168
        },
        {
          "output_type": "display_data",
          "data": {
            "image/png": "[encoded data removed]",
            "text/plain": [
              "<Figure size 432x288 with 1 Axes>"
            ]
          },
          "metadata": {
            "needs_background": "light"
          }
        }
      ]
    },
    {
      "cell_type": "code",
      "source": [
        "plt.imshow(X_train_cnn[0], 'binary')"
      ],
      "metadata": {
        "colab": {
          "base_uri": "https://localhost:8080/",
          "height": 282
        },
        "id": "_uz6sfQM5pwj",
        "outputId": "3182f1ad-470e-4195-98d3-8b61a50a4b17"
      },
      "execution_count": null,
      "outputs": [
        {
          "output_type": "execute_result",
          "data": {
            "text/plain": [
              "<matplotlib.image.AxesImage at 0x7ff7469ce790>"
            ]
          },
          "metadata": {},
          "execution_count": 170
        },
        {
          "output_type": "display_data",
          "data": {
            "image/png": "[encoded data removed]",
            "text/plain": [
              "<Figure size 432x288 with 1 Axes>"
            ]
          },
          "metadata": {
            "needs_background": "light"
          }
        }
      ]
    },
    {
      "cell_type": "code",
      "source": [
        "x_train_cnn = tf.keras.utils.normalize(X_train_cnn, axis=0)\n",
        "x_test_cnn = tf.keras.utils.normalize(X_test_cnn, axis=0)\n",
        "plt.imshow(x_train_cnn[0], 'binary')"
      ],
      "metadata": {
        "colab": {
          "base_uri": "https://localhost:8080/",
          "height": 282
        },
        "id": "CaHtNHBA5beF",
        "outputId": "9b529a43-b295-40ce-d2a9-9e3adc7c7f6c"
      },
      "execution_count": null,
      "outputs": [
        {
          "output_type": "execute_result",
          "data": {
            "text/plain": [
              "<matplotlib.image.AxesImage at 0x7f2e9f2622d0>"
            ]
          },
          "metadata": {},
          "execution_count": 18
        },
        {
          "output_type": "display_data",
          "data": {
            "image/png": "[encoded data removed]",
            "text/plain": [
              "<Figure size 432x288 with 1 Axes>"
            ]
          },
          "metadata": {
            "needs_background": "light"
          }
        }
      ]
    },
    {
      "cell_type": "code",
      "source": [
        "print(x_train_cnn[0])"
      ],
      "metadata": {
        "colab": {
          "base_uri": "https://localhost:8080/"
        },
        "id": "Y4vhCjnd6GRl",
        "outputId": "67e1c770-d5a0-4eef-8735-e0b0ea49f90a"
      },
      "execution_count": null,
      "outputs": [
        {
          "output_type": "stream",
          "name": "stdout",
          "text": [
            "[[0.         0.03768297 0.03994013 0.03453799 0.04562639 0.04266601\n",
            "  0.04077389 0.04058596 0.04089494 0.03519556 0.02255639 0.00847123\n",
            "  0.         0.         0.        ]\n",
            " [0.01353082 0.05232647 0.04240945 0.03790793 0.03602321 0.02923377\n",
            "  0.01155741 0.01714006 0.0342505  0.03464506 0.03599921 0.03831696\n",
            "  0.01427516 0.         0.        ]\n",
            " [0.04120817 0.04882892 0.04119166 0.03903683 0.01973812 0.\n",
            "  0.         0.         0.03473479 0.03944297 0.03816704 0.03939702\n",
            "  0.04273413 0.02554788 0.        ]\n",
            " [0.06476054 0.04761605 0.04137242 0.04048882 0.         0.\n",
            "  0.         0.         0.         0.03073016 0.04129298 0.04095587\n",
            "  0.04392217 0.05147418 0.        ]\n",
            " [0.07564695 0.04691654 0.04124028 0.03959814 0.         0.\n",
            "  0.         0.         0.         0.02286548 0.04166968 0.04077578\n",
            "  0.04380612 0.05181857 0.        ]\n",
            " [0.07087388 0.04803075 0.0413508  0.03887752 0.         0.\n",
            "  0.         0.         0.         0.014261   0.03943104 0.03880103\n",
            "  0.04228289 0.05186502 0.        ]\n",
            " [0.06576848 0.05077458 0.04176953 0.03902444 0.         0.\n",
            "  0.         0.         0.         0.         0.00633813 0.03787393\n",
            "  0.04086932 0.05077276 0.04714045]\n",
            " [0.10215078 0.05348834 0.04286808 0.00672521 0.         0.\n",
            "  0.         0.         0.         0.         0.03063739 0.03696668\n",
            "  0.04039511 0.04963596 0.04386227]\n",
            " [0.10077275 0.0543638  0.0451818  0.03558111 0.         0.\n",
            "  0.         0.         0.         0.         0.01829677 0.03635429\n",
            "  0.03946856 0.0470505  0.06958553]\n",
            " [0.09460851 0.05441967 0.04751143 0.04521643 0.         0.\n",
            "  0.         0.         0.         0.         0.03750293 0.03650537\n",
            "  0.03857345 0.04523441 0.05239176]\n",
            " [0.08805457 0.05430809 0.04818073 0.04686785 0.         0.\n",
            "  0.         0.         0.         0.01480061 0.03849636 0.03690718\n",
            "  0.03835138 0.04401662 0.03659081]\n",
            " [0.08550514 0.05402775 0.0482539  0.04675956 0.         0.\n",
            "  0.         0.         0.         0.02317518 0.04022952 0.03772913\n",
            "  0.03882458 0.04363088 0.        ]\n",
            " [0.08198435 0.05345225 0.04693233 0.04490133 0.         0.\n",
            "  0.         0.         0.         0.03818797 0.04055536 0.03850111\n",
            "  0.03932841 0.03721202 0.        ]\n",
            " [0.07846094 0.054317   0.04554875 0.04253929 0.02089692 0.00729364\n",
            "  0.         0.         0.02158218 0.04043637 0.03802346 0.03790944\n",
            "  0.04021054 0.         0.        ]\n",
            " [0.01881109 0.05199315 0.04798311 0.04178269 0.0390294  0.03746708\n",
            "  0.03671047 0.03631166 0.03607917 0.03580511 0.03630102 0.03199611\n",
            "  0.00722083 0.         0.        ]\n",
            " [0.         0.         0.04537649 0.04909916 0.04227659 0.03925532\n",
            "  0.03789129 0.03739625 0.03762384 0.03919497 0.03080693 0.\n",
            "  0.         0.         0.        ]]\n"
          ]
        }
      ]
    },
    {
      "cell_type": "code",
      "source": [
        "x_train_cnn = x_train_cnn.reshape(-1,16,15,1)\n",
        "x_test_cnn = x_test_cnn.reshape(-1,16,15,1)"
      ],
      "metadata": {
        "id": "llxFpMya6LT-"
      },
      "execution_count": null,
      "outputs": []
    },
    {
      "cell_type": "markdown",
      "source": [
        "## Creating a Deep Neural network"
      ],
      "metadata": {
        "id": "SpsPFq5k7ZHk"
      }
    },
    {
      "cell_type": "code",
      "source": [
        "from tensorflow.keras.models import Sequential\n",
        "from tensorflow.keras.layers import Dense, Dropout, Activation, Flatten, Conv2D, MaxPooling2D"
      ],
      "metadata": {
        "id": "HAH6mWRI7d6H"
      },
      "execution_count": null,
      "outputs": []
    },
    {
      "cell_type": "code",
      "source": [
        "model = Sequential()\n",
        "\n",
        "#first convolution layer\n",
        "model.add(Conv2D(32, (5,5), input_shape = x_train_cnn.shape[1:]))\n",
        "model.add(Activation('relu'))\n",
        "model.add(MaxPooling2D(pool_size = (2,2)))\n",
        "model.add(Dropout(0.3))\n",
        "\n",
        "# model.add(Conv2D(16, (3,3), input_shape = x_train_cnn.shape[1:]))\n",
        "# model.add(Activation('relu'))\n",
        "# model.add(MaxPooling2D(pool_size = (2,2)))\n",
        "# model.add(Dropout(0.3))\n",
        "\n",
        "# fully connected layer\n",
        "model.add(Flatten())\n",
        "model.add(Dropout(0.5))\n",
        "model.add(Dense(32))\n",
        "model.add(Activation('relu'))\n",
        "\n",
        "\n",
        "# last fully connect layer\n",
        "model.add(Dense(10))\n",
        "model.add(Activation('softmax'))\n"
      ],
      "metadata": {
        "id": "x5lUc5Ev7sXq"
      },
      "execution_count": null,
      "outputs": []
    },
    {
      "cell_type": "code",
      "source": [
        "print(model.summary())"
      ],
      "metadata": {
        "colab": {
          "base_uri": "https://localhost:8080/"
        },
        "id": "wEVfTgH372vH",
        "outputId": "af9ba364-f6b9-4f5e-827a-09c2780ec69a"
      },
      "execution_count": null,
      "outputs": [
        {
          "output_type": "stream",
          "name": "stdout",
          "text": [
            "Model: \"sequential_1\"\n",
            "_________________________________________________________________\n",
            " Layer (type)                Output Shape              Param #   \n",
            "=================================================================\n",
            " conv2d (Conv2D)             (None, 12, 11, 32)        832       \n",
            "                                                                 \n",
            " activation (Activation)     (None, 12, 11, 32)        0         \n",
            "                                                                 \n",
            " max_pooling2d (MaxPooling2D  (None, 6, 5, 32)         0         \n",
            " )                                                               \n",
            "                                                                 \n",
            " dropout (Dropout)           (None, 6, 5, 32)          0         \n",
            "                                                                 \n",
            " flatten (Flatten)           (None, 960)               0         \n",
            "                                                                 \n",
            " dropout_1 (Dropout)         (None, 960)               0         \n",
            "                                                                 \n",
            " dense (Dense)               (None, 32)                30752     \n",
            "                                                                 \n",
            " activation_1 (Activation)   (None, 32)                0         \n",
            "                                                                 \n",
            " dense_1 (Dense)             (None, 10)                330       \n",
            "                                                                 \n",
            " activation_2 (Activation)   (None, 10)                0         \n",
            "                                                                 \n",
            "=================================================================\n",
            "Total params: 31,914\n",
            "Trainable params: 31,914\n",
            "Non-trainable params: 0\n",
            "_________________________________________________________________\n",
            "None\n"
          ]
        }
      ]
    },
    {
      "cell_type": "code",
      "source": [
        "model.compile(loss='sparse_categorical_crossentropy', optimizer='adam', metrics='accuracy')"
      ],
      "metadata": {
        "id": "D73megV9-WS_"
      },
      "execution_count": null,
      "outputs": []
    },
    {
      "cell_type": "markdown",
      "source": [
        "Training the model"
      ],
      "metadata": {
        "id": "APQYW5--_JNf"
      }
    },
    {
      "cell_type": "code",
      "source": [
        "model.fit(x_train_cnn, y_train, epochs=10, validation_split=0.3)\n",
        "\n",
        "history =model.fit(X_train_cnn, y_train, epochs=10, validation_split=0.3)"
      ],
      "metadata": {
        "colab": {
          "base_uri": "https://localhost:8080/"
        },
        "id": "S4z-eQ-4_Joc",
        "outputId": "5696087d-d7ec-4164-c346-3913391d6346"
      },
      "execution_count": null,
      "outputs": [
        {
          "output_type": "stream",
          "name": "stdout",
          "text": [
            "Epoch 1/10\n",
            "22/22 [==============================] - 0s 11ms/step - loss: 1.0409 - accuracy: 0.6714 - val_loss: 3.3194 - val_accuracy: 0.0600\n",
            "Epoch 2/10\n",
            "22/22 [==============================] - 0s 9ms/step - loss: 0.5506 - accuracy: 0.9000 - val_loss: 3.8900 - val_accuracy: 0.0100\n",
            "Epoch 3/10\n",
            "22/22 [==============================] - 0s 10ms/step - loss: 0.4489 - accuracy: 0.9257 - val_loss: 4.4513 - val_accuracy: 0.0000e+00\n",
            "Epoch 4/10\n",
            "22/22 [==============================] - 0s 9ms/step - loss: 0.3837 - accuracy: 0.9329 - val_loss: 4.8899 - val_accuracy: 0.0000e+00\n",
            "Epoch 5/10\n",
            "22/22 [==============================] - 0s 10ms/step - loss: 0.3748 - accuracy: 0.9243 - val_loss: 5.0720 - val_accuracy: 0.0000e+00\n",
            "Epoch 6/10\n",
            "22/22 [==============================] - 0s 9ms/step - loss: 0.3617 - accuracy: 0.9257 - val_loss: 5.2458 - val_accuracy: 0.0000e+00\n",
            "Epoch 7/10\n",
            "22/22 [==============================] - 0s 10ms/step - loss: 0.3409 - accuracy: 0.9357 - val_loss: 5.3739 - val_accuracy: 0.0000e+00\n",
            "Epoch 8/10\n",
            "22/22 [==============================] - 0s 9ms/step - loss: 0.3263 - accuracy: 0.9443 - val_loss: 5.4880 - val_accuracy: 0.0000e+00\n",
            "Epoch 9/10\n",
            "22/22 [==============================] - 0s 9ms/step - loss: 0.3182 - accuracy: 0.9257 - val_loss: 5.5454 - val_accuracy: 0.0000e+00\n",
            "Epoch 10/10\n",
            "22/22 [==============================] - 0s 10ms/step - loss: 0.3133 - accuracy: 0.9257 - val_loss: 5.6177 - val_accuracy: 0.0000e+00\n",
            "Epoch 1/10\n",
            "22/22 [==============================] - 0s 13ms/step - loss: 1.3961 - accuracy: 0.9586 - val_loss: 219.6119 - val_accuracy: 0.0000e+00\n",
            "Epoch 2/10\n",
            "22/22 [==============================] - 0s 10ms/step - loss: 1.4254 - accuracy: 0.9500 - val_loss: 211.0960 - val_accuracy: 0.0033\n",
            "Epoch 3/10\n",
            "22/22 [==============================] - 0s 10ms/step - loss: 0.6534 - accuracy: 0.9671 - val_loss: 199.2912 - val_accuracy: 0.0033\n",
            "Epoch 4/10\n",
            "22/22 [==============================] - 0s 10ms/step - loss: 0.8035 - accuracy: 0.9643 - val_loss: 193.1825 - val_accuracy: 0.0000e+00\n",
            "Epoch 5/10\n",
            "22/22 [==============================] - 0s 10ms/step - loss: 1.0114 - accuracy: 0.9571 - val_loss: 186.5642 - val_accuracy: 0.0033\n",
            "Epoch 6/10\n",
            "22/22 [==============================] - 0s 10ms/step - loss: 0.7385 - accuracy: 0.9671 - val_loss: 180.6607 - val_accuracy: 0.0000e+00\n",
            "Epoch 7/10\n",
            "22/22 [==============================] - 0s 12ms/step - loss: 0.7715 - accuracy: 0.9600 - val_loss: 179.0165 - val_accuracy: 0.0000e+00\n",
            "Epoch 8/10\n",
            "22/22 [==============================] - 0s 10ms/step - loss: 0.7865 - accuracy: 0.9543 - val_loss: 169.8409 - val_accuracy: 0.0000e+00\n",
            "Epoch 9/10\n",
            "22/22 [==============================] - 0s 10ms/step - loss: 0.6962 - accuracy: 0.9729 - val_loss: 162.0921 - val_accuracy: 0.0033\n",
            "Epoch 10/10\n",
            "22/22 [==============================] - 0s 10ms/step - loss: 0.6427 - accuracy: 0.9700 - val_loss: 156.1662 - val_accuracy: 0.0033\n"
          ]
        }
      ]
    },
    {
      "cell_type": "code",
      "source": [
        "fig, ax = plt.subplots(2,1)\n",
        "ax[0].plot(history.history['loss'], color='b', label=\"Training loss\")\n",
        "ax[0].plot(history.history['val_loss'], color='r', label=\"validation loss\",axes =ax[0])\n",
        "legend = ax[0].legend(loc='best', shadow=True)\n",
        "\n",
        "ax[1].plot(history.history['accuracy'], color='b', label=\"Training accuracy\")\n",
        "ax[1].plot(history.history['val_accuracy'], color='r',label=\"Validation accuracy\")\n",
        "legend = ax[1].legend(loc='best', shadow=True)"
      ],
      "metadata": {
        "colab": {
          "base_uri": "https://localhost:8080/",
          "height": 265
        },
        "id": "CKrAvE44FbyF",
        "outputId": "8fdbbdcc-e4c4-4d20-f4c3-ca28ee642eab"
      },
      "execution_count": null,
      "outputs": [
        {
          "output_type": "display_data",
          "data": {
            "image/png": "[encoded data removed]",
            "text/plain": [
              "<Figure size 432x288 with 2 Axes>"
            ]
          },
          "metadata": {
            "needs_background": "light"
          }
        }
      ]
    },
    {
      "cell_type": "code",
      "source": [
        "test_loss, test_acc = model.evaluate(X_test_cnn, y_test)\n",
        "print(test_loss, test_acc)"
      ],
      "metadata": {
        "colab": {
          "base_uri": "https://localhost:8080/"
        },
        "id": "o8UbOheZ_aGR",
        "outputId": "49f4451b-2286-4397-86f1-b70055daa71a"
      },
      "execution_count": null,
      "outputs": [
        {
          "output_type": "stream",
          "name": "stdout",
          "text": [
            "32/32 [==============================] - 0s 3ms/step - loss: 57.2524 - accuracy: 0.6860\n",
            "57.25244140625 0.6859999895095825\n"
          ]
        }
      ]
    },
    {
      "cell_type": "code",
      "source": [
        "pip install spacy\n"
      ],
      "metadata": {
        "colab": {
          "base_uri": "https://localhost:8080/"
        },
        "id": "CqG2W75bYyQ2",
        "outputId": "b63cc8e2-e0cf-4f15-bc95-9725d3e68a3a"
      },
      "execution_count": null,
      "outputs": [
        {
          "output_type": "stream",
          "name": "stdout",
          "text": [
            "Requirement already satisfied: spacy in /usr/local/lib/python3.7/dist-packages (2.2.4)\n",
            "Requirement already satisfied: numpy>=1.15.0 in /usr/local/lib/python3.7/dist-packages (from spacy) (1.19.5)\n",
            "Requirement already satisfied: cymem<2.1.0,>=2.0.2 in /usr/local/lib/python3.7/dist-packages (from spacy) (2.0.6)\n",
            "Requirement already satisfied: requests<3.0.0,>=2.13.0 in /usr/local/lib/python3.7/dist-packages (from spacy) (2.23.0)\n",
            "Requirement already satisfied: wasabi<1.1.0,>=0.4.0 in /usr/local/lib/python3.7/dist-packages (from spacy) (0.8.2)\n",
            "Requirement already satisfied: murmurhash<1.1.0,>=0.28.0 in /usr/local/lib/python3.7/dist-packages (from spacy) (1.0.6)\n",
            "Requirement already satisfied: tqdm<5.0.0,>=4.38.0 in /usr/local/lib/python3.7/dist-packages (from spacy) (4.62.3)\n",
            "Requirement already satisfied: preshed<3.1.0,>=3.0.2 in /usr/local/lib/python3.7/dist-packages (from spacy) (3.0.6)\n",
            "Requirement already satisfied: srsly<1.1.0,>=1.0.2 in /usr/local/lib/python3.7/dist-packages (from spacy) (1.0.5)\n",
            "Requirement already satisfied: plac<1.2.0,>=0.9.6 in /usr/local/lib/python3.7/dist-packages (from spacy) (1.1.3)\n",
            "Requirement already satisfied: catalogue<1.1.0,>=0.0.7 in /usr/local/lib/python3.7/dist-packages (from spacy) (1.0.0)\n",
            "Requirement already satisfied: blis<0.5.0,>=0.4.0 in /usr/local/lib/python3.7/dist-packages (from spacy) (0.4.1)\n",
            "Requirement already satisfied: thinc==7.4.0 in /usr/local/lib/python3.7/dist-packages (from spacy) (7.4.0)\n",
            "Requirement already satisfied: setuptools in /usr/local/lib/python3.7/dist-packages (from spacy) (57.4.0)\n",
            "Requirement already satisfied: importlib-metadata>=0.20 in /usr/local/lib/python3.7/dist-packages (from catalogue<1.1.0,>=0.0.7->spacy) (4.8.2)\n",
            "Requirement already satisfied: typing-extensions>=3.6.4 in /usr/local/lib/python3.7/dist-packages (from importlib-metadata>=0.20->catalogue<1.1.0,>=0.0.7->spacy) (3.10.0.2)\n",
            "Requirement already satisfied: zipp>=0.5 in /usr/local/lib/python3.7/dist-packages (from importlib-metadata>=0.20->catalogue<1.1.0,>=0.0.7->spacy) (3.6.0)\n",
            "Requirement already satisfied: chardet<4,>=3.0.2 in /usr/local/lib/python3.7/dist-packages (from requests<3.0.0,>=2.13.0->spacy) (3.0.4)\n",
            "Requirement already satisfied: certifi>=2017.4.17 in /usr/local/lib/python3.7/dist-packages (from requests<3.0.0,>=2.13.0->spacy) (2021.10.8)\n",
            "Requirement already satisfied: idna<3,>=2.5 in /usr/local/lib/python3.7/dist-packages (from requests<3.0.0,>=2.13.0->spacy) (2.10)\n",
            "Requirement already satisfied: urllib3!=1.25.0,!=1.25.1,<1.26,>=1.21.1 in /usr/local/lib/python3.7/dist-packages (from requests<3.0.0,>=2.13.0->spacy) (1.24.3)\n"
          ]
        }
      ]
    },
    {
      "cell_type": "code",
      "source": [
        "import spacy\n",
        "nlp= spacy.load('en_core_web_sm')"
      ],
      "metadata": {
        "id": "_O2YgHU2Y1xq"
      },
      "execution_count": null,
      "outputs": []
    },
    {
      "cell_type": "code",
      "source": [
        "def get_doc(directory):\n",
        "  doc = open(directory).readlines()\n",
        "  result =[]\n",
        "  tok =[]\n",
        "  for i, x in enumerate(doc):\n",
        "    if x.startswith('# raw sent = '):\n",
        "      x= x.replace('# raw sent = ', '').replace('\\n', '')\n",
        "      result.append(x)\n",
        "    if x.startswith(('#', '###')) == False:\n",
        "      x = x.split('\\t')\n",
        "      if len(x)>1:\n",
        "        tok.append(x[0])\n",
        "  return result, tok"
      ],
      "metadata": {
        "id": "6wQ_aHMiZLkN"
      },
      "execution_count": null,
      "outputs": []
    },
    {
      "cell_type": "code",
      "source": [
        "text,tok = get_doc('/content/gdrive/MyDrive/computational_semantics/train.txt')"
      ],
      "metadata": {
        "id": "DEM5pRgkaGgB"
      },
      "execution_count": null,
      "outputs": []
    },
    {
      "cell_type": "code",
      "source": [
        "pos =[]\n",
        "for sent in text:\n",
        "  doc = nlp(sent)\n",
        "  for token in doc:\n",
        "    pos.append(token.pos_)\n",
        "\n"
      ],
      "metadata": {
        "id": "YFTARjslaKka"
      },
      "execution_count": null,
      "outputs": []
    },
    {
      "cell_type": "code",
      "source": [
        "print(text[:10])"
      ],
      "metadata": {
        "colab": {
          "base_uri": "https://localhost:8080/"
        },
        "id": "HAK1jrqckUPM",
        "outputId": "86971fe2-cd3d-428b-e59f-8977ae47a64c"
      },
      "execution_count": null,
      "outputs": [
        {
          "output_type": "stream",
          "name": "stdout",
          "text": [
            "['A girl is styling her hair', 'Tom asks his mother if she can but him a new toy.', 'This television is very heavy.', 'Kraft sold Celestial Seasonings.', '9 people were assassinated by Raman Raghav.', 'Charles de Gaulle died in 1970.', 'Our plane was flying above the clouds.', 'Bill is two years older than I.', 'John is not my brother, but my cousin.', 'I stretched out my hand for the book.']\n"
          ]
        }
      ]
    },
    {
      "cell_type": "code",
      "source": [
        "a =nlp('9 people were assassinated by Raman Raghav.')\n",
        "for x in a:\n",
        "  print(x.pos_, x.text)"
      ],
      "metadata": {
        "colab": {
          "base_uri": "https://localhost:8080/"
        },
        "id": "JV9T7KMFjtvm",
        "outputId": "e03c5adb-cfb8-4052-e3ba-0ed0987c90aa"
      },
      "execution_count": null,
      "outputs": [
        {
          "output_type": "stream",
          "name": "stdout",
          "text": [
            "NUM 9\n",
            "NOUN people\n",
            "AUX were\n",
            "VERB assassinated\n",
            "ADP by\n",
            "PROPN Raman\n",
            "PROPN Raghav\n",
            "PUNCT .\n"
          ]
        }
      ]
    },
    {
      "cell_type": "code",
      "source": [
        "print(pos[:20])\n",
        "print(tok[:20])"
      ],
      "metadata": {
        "colab": {
          "base_uri": "https://localhost:8080/"
        },
        "id": "Jo6ay0n3eQrL",
        "outputId": "25bcab46-716c-4b16-fe65-c2b98cbb7476"
      },
      "execution_count": null,
      "outputs": [
        {
          "output_type": "stream",
          "name": "stdout",
          "text": [
            "['DET', 'NOUN', 'AUX', 'VERB', 'DET', 'NOUN', 'PROPN', 'VERB', 'DET', 'NOUN', 'SCONJ', 'PRON', 'VERB', 'CCONJ', 'PRON', 'DET', 'ADJ', 'NOUN', 'PUNCT', 'DET']\n",
            "['A', 'girl', 'is', 'styling', 'her', 'hair', 'Tom', 'asks', 'his', 'mother', 'if', 'she', 'can', 'but', 'him', 'a', 'new', 'toy', '.', 'This']\n"
          ]
        }
      ]
    },
    {
      "cell_type": "code",
      "source": [
        "print(len(pos))\n",
        "print(len(tok))"
      ],
      "metadata": {
        "colab": {
          "base_uri": "https://localhost:8080/"
        },
        "id": "WsgL55XUcBZy",
        "outputId": "c339c4e2-2143-4ae0-bb57-e5f862894f4b"
      },
      "execution_count": null,
      "outputs": [
        {
          "output_type": "stream",
          "name": "stdout",
          "text": [
            "103097\n",
            "98870\n"
          ]
        }
      ]
    },
    {
      "cell_type": "code",
      "source": [
        "def get_doc(directory):\n",
        "  doc = open(directory).readlines()\n",
        "  result =[]\n",
        "  for i, x in enumerate(doc):\n",
        "    if x.startswith(('# ', '###'))==False:\n",
        "      x= x.split('\\t')\n",
        "      result.append(x)\n",
        "  return result\n",
        "  \n",
        "def get_data(doc):\n",
        "  sent =[]\n",
        "  for word in doc:\n",
        "    if len(word)>0:\n",
        "      tok =[]\n",
        "      sem =[]\n",
        "      if len(word) >3:\n",
        "        tok.append(word[0])\n",
        "        sem.append(word[3])\n",
        "  return sent"
      ],
      "metadata": {
        "id": "qj0xQ8G6gcyv"
      },
      "execution_count": null,
      "outputs": []
    },
    {
      "cell_type": "code",
      "source": [
        "text = get_doc('/content/gdrive/MyDrive/computational_semantics/train.txt')"
      ],
      "metadata": {
        "id": "WPlzr1mPhH3K"
      },
      "execution_count": null,
      "outputs": []
    },
    {
      "cell_type": "code",
      "source": [
        "for word in text[:10]:\n",
        "  print(word)"
      ],
      "metadata": {
        "colab": {
          "base_uri": "https://localhost:8080/"
        },
        "id": "5JeR4OwchR-I",
        "outputId": "a10021fa-29e9-4270-95f5-158085ff462d"
      },
      "execution_count": null,
      "outputs": [
        {
          "output_type": "stream",
          "name": "stdout",
          "text": [
            "['A', 'A', 'a', 'DIS', 'np/n', 'O', '[]\\n']\n",
            "['girl', 'girl', 'girl', 'CON', 'n', 'girl.n.01', '[]\\n']\n",
            "['is', 'is', 'be', 'NOW', '(s:dcl\\\\np)/(s:ng\\\\np)', 'O', '[]\\n']\n",
            "['styling', 'styling', 'style', 'EXG', '(s:ng\\\\np)/np', 'style.v.02', '[Patient,Agent]\\n']\n",
            "['her', 'her', 'female', 'HAS', 'np/n', 'female.n.02', '[PartOf]\\n']\n",
            "['hair', 'hair', 'hair', 'CON', 'n', 'hair.n.01', '[]\\n']\n",
            "['\\n']\n",
            "['Tom', 'Tom', 'tom', 'PER', 'n', 'male.n.02', '[]\\n']\n",
            "['asks', 'asks', 'ask', 'ENS', '((s:dcl\\\\np)/s:qem)/np', 'ask.v.02', '[Recipient,Topic,Agent]\\n']\n",
            "['his', 'his', 'male', 'HAS', 'np/(n/pp)', 'male.n.02', '[Of]\\n']\n"
          ]
        }
      ]
    },
    {
      "cell_type": "code",
      "source": [
        "a=['jiaojdalfdk：dajfaljdl', 'lajdflajfdl,ljflajd', 'lakdjflaj:dlkjfaldf', 'aldkjalkd：ldjfkal']\n",
        "for x in a:\n",
        "  if '：' in x:\n",
        "    print(x)"
      ],
      "metadata": {
        "id": "xO7Zk1hYhURj",
        "colab": {
          "base_uri": "https://localhost:8080/"
        },
        "outputId": "3a774e21-c530-47da-e8a8-4c588b5108e9"
      },
      "execution_count": null,
      "outputs": [
        {
          "output_type": "stream",
          "name": "stdout",
          "text": [
            "jiaojdalfdk：dajfaljdl\n",
            "aldkjalkd：ldjfkal\n"
          ]
        }
      ]
    }
  ]
}